{
 "cells": [
  {
   "cell_type": "code",
   "execution_count": 1,
   "id": "0145b760",
   "metadata": {},
   "outputs": [
    {
     "data": {
      "text/plain": [
       "tensor(7.3891)"
      ]
     },
     "execution_count": 1,
     "metadata": {},
     "output_type": "execute_result"
    }
   ],
   "source": [
    "import torch\n",
    "torch.exp((torch.tensor(4-2)))"
   ]
  },
  {
   "cell_type": "code",
   "execution_count": 2,
   "id": "cfe6bb1e",
   "metadata": {},
   "outputs": [
    {
     "name": "stdout",
     "output_type": "stream",
     "text": [
      "[tensor([9., 1., 2.]), tensor([19., 11., 12.])]\n",
      "[tensor([5., 8., 3.]), tensor([15., 18., 13.])]\n",
      "[tensor([7., 6., 4.]), tensor([17., 16., 14.])]\n"
     ]
    }
   ],
   "source": [
    "data = [1,2,3,4,5,6,7,8,9]\n",
    "data1 = [11,12,13,14,15,16,17,18,19]\n",
    "data = torch.FloatTensor(data)\n",
    "data1 = torch.FloatTensor(data1)\n",
    "dataset = torch.utils.data.TensorDataset(data, data1)\n",
    "loader = torch.utils.data.DataLoader(dataset, batch_size=3, shuffle=True)\n",
    "for d in loader:\n",
    "    print(d)"
   ]
  },
  {
   "cell_type": "code",
   "execution_count": null,
   "id": "dd9bc38b",
   "metadata": {},
   "outputs": [],
   "source": []
  }
 ],
 "metadata": {
  "kernelspec": {
   "display_name": "rlenv",
   "language": "python",
   "name": "python3"
  },
  "language_info": {
   "codemirror_mode": {
    "name": "ipython",
    "version": 3
   },
   "file_extension": ".py",
   "mimetype": "text/x-python",
   "name": "python",
   "nbconvert_exporter": "python",
   "pygments_lexer": "ipython3",
   "version": "3.10.11"
  }
 },
 "nbformat": 4,
 "nbformat_minor": 5
}
