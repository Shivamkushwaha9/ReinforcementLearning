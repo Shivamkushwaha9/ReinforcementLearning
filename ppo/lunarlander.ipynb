{
 "cells": [
  {
   "cell_type": "code",
   "execution_count": 98,
   "metadata": {},
   "outputs": [],
   "source": [
    "import numpy as np\n",
    "import gymnasium as gym\n",
    "import torch\n",
    "import torch.nn as nn"
   ]
  },
  {
   "cell_type": "code",
   "execution_count": 99,
   "metadata": {},
   "outputs": [],
   "source": [
    "#In descrete space -> the actions will be either 0,1,2,3\n",
    "#In continous space -> the actions will be for main and side engines only with [1,1] jaha 1,1 ki values flunctuate hogi\n",
    "env = gym.make(\"LunarLander-v3\", continuous=False, gravity=-10.0,\n",
    "               enable_wind=False, wind_power=15.0, turbulence_power=1.5)\n",
    "\n",
    "\n",
    "class SimpleModel(nn.Module):\n",
    "    def __init__(self):\n",
    "        super().__init__()\n",
    "        self.model = nn.Sequential(\n",
    "            nn.Linear(8, 64),\n",
    "            nn.ReLU(),\n",
    "            nn.Linear(64, 32),\n",
    "            nn.ReLU(),\n",
    "            nn.Linear(32, 16),\n",
    "            nn.ReLU(),\n",
    "            nn.Linear(16, 8),\n",
    "            nn.ReLU(),\n",
    "            nn.Linear(8, 4),\n",
    "            nn.Softmax(),\n",
    "        )\n",
    "    def forward(self, x):\n",
    "        return self.model(x)\n",
    "model = SimpleModel()"
   ]
  },
  {
   "cell_type": "code",
   "execution_count": 100,
   "metadata": {},
   "outputs": [
    {
     "name": "stdout",
     "output_type": "stream",
     "text": [
      "Logits :  tensor([0.2546, 0.2215, 0.3045, 0.2194], grad_fn=<SoftmaxBackward0>)\n",
      "\n",
      "tensor(2)\n"
     ]
    }
   ],
   "source": [
    "observation, info = env.reset(seed=42)\n",
    "# print(observation)\n",
    "# print()\n",
    "# print(info)\n",
    "\n",
    "\n",
    "#Testing\n",
    "x = [-2.5, -2.5, -10., -10., -6.2831855, -10., -0., -0.]\n",
    "logits = model(torch.tensor(x))   # Get raw outputs (logits)\n",
    "print(\"Logits : \",logits)\n",
    "print()\n",
    "predicted_class = logits.argmax(dim=-1)  # Get index of max logit (class)\n",
    "print(predicted_class)"
   ]
  },
  {
   "cell_type": "code",
   "execution_count": 101,
   "metadata": {},
   "outputs": [],
   "source": [
    "def play_one_step(env, obs, model):\n",
    "    obs_tensor = torch.tensor(obs, dtype=torch.float32).unsqueeze(0)\n",
    "    action_proba = torch.softmax(model(obs_tensor), dim=-1)\n",
    "    \n",
    "    action_dist = torch.distributions.Categorical(action_proba)\n",
    "    action = action_dist.sample()\n",
    "    \n",
    "    obs, reward, done, truncated, info = env.step(action.item())\n",
    "    \n",
    "    loss = -action_dist.log_prob(action) * reward\n",
    "    \n",
    "    model.zero_grad()\n",
    "    loss.backward()\n",
    "    \n",
    "    grads = [param.grad.clone() for param in model.parameters()]\n",
    "    \n",
    "    return obs, reward, done, truncated, grads"
   ]
  },
  {
   "cell_type": "code",
   "execution_count": 102,
   "metadata": {},
   "outputs": [],
   "source": [
    "def play_multiple_episodes(env, n_max_episodes, n_max_steps):\n",
    "    all_rewards = []\n",
    "    all_grads = []\n",
    "    for episode in range(n_max_episodes):\n",
    "        curr_rews = []\n",
    "        curr_grds = []\n",
    "        observation, info = env.reset()\n",
    "        for step in range(n_max_steps):\n",
    "            obs, reward, done, truncated, grads = play_one_step(env, observation, model)\n",
    "            curr_rews.append(reward)\n",
    "            curr_grds.append(grads)\n",
    "            if done or truncated:\n",
    "                break\n",
    "        all_rewards.append(curr_rews) \n",
    "        all_grads.append(curr_grds) \n",
    "    return all_rewards, all_grads\n",
    "\n",
    "\n",
    "\n",
    "def discount_rewards(rewards, discount_factor):\n",
    "    discounted = np.array(rewards)\n",
    "    for i in range(len(rewards)-2, -1, -1):\n",
    "        discounted[i] += discounted[i+1] * discount_factor\n",
    "    return discounted\n",
    "\n",
    "def discount_and_normalize_rewards(all_rewards, discount_factor):\n",
    "    all_discounted_rewards = [discount_rewards(single_rew, discount_factor) for single_rew in all_rewards]\n",
    "    flattened_rewards = np.concatenate(all_discounted_rewards)\n",
    "    mean = flattened_rewards.mean()\n",
    "    std = flattened_rewards.std()\n",
    "    return [(rew - mean)/std for rew in all_discounted_rewards]"
   ]
  },
  {
   "cell_type": "code",
   "execution_count": null,
   "metadata": {},
   "outputs": [],
   "source": [
    "n_iterations = 150\n",
    "n_episodes = 20\n",
    "n_steps_per_ep = 200\n",
    "discount_factor = 0.95\n",
    "\n",
    "optim = torch.optim.Adam(model.parameters(), lr=0.01)\n",
    "loss_fn = nn.CrossEntropyLoss()\n",
    "# loss = nn.BCELoss()  Ye binary classfication k liye h brov"
   ]
  },
  {
   "cell_type": "code",
   "execution_count": null,
   "metadata": {},
   "outputs": [],
   "source": []
  }
 ],
 "metadata": {
  "kernelspec": {
   "display_name": "ppoenv",
   "language": "python",
   "name": "python3"
  },
  "language_info": {
   "codemirror_mode": {
    "name": "ipython",
    "version": 3
   },
   "file_extension": ".py",
   "mimetype": "text/x-python",
   "name": "python",
   "nbconvert_exporter": "python",
   "pygments_lexer": "ipython3",
   "version": "3.10.11"
  }
 },
 "nbformat": 4,
 "nbformat_minor": 2
}
