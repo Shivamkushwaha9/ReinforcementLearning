{
 "cells": [
  {
   "cell_type": "code",
   "execution_count": 37,
   "metadata": {},
   "outputs": [],
   "source": [
    "import numpy as np\n",
    "import time\n",
    "import gymnasium as gym\n",
    "import matplotlib.pyplot as plt\n",
    "import torch\n",
    "import torch.nn as nn"
   ]
  },
  {
   "cell_type": "code",
   "execution_count": 38,
   "metadata": {},
   "outputs": [
    {
     "name": "stdout",
     "output_type": "stream",
     "text": [
      "[ 0.0273956  -0.00611216  0.03585979  0.0197368 ]\n"
     ]
    }
   ],
   "source": [
    "#creating the gym env\n",
    "env = gym.make('CartPole-v1', render_mode='rgb_array')\n",
    "obs, info = env.reset(seed=42) #info contains info about the env but yaha par empty rhega in cartpole\n",
    "print(obs)"
   ]
  },
  {
   "cell_type": "code",
   "execution_count": 39,
   "metadata": {},
   "outputs": [
    {
     "name": "stdout",
     "output_type": "stream",
     "text": [
      "[ 0.02727336 -0.20172954  0.03625453  0.32351476]\n"
     ]
    },
    {
     "data": {
      "text/plain": [
       "<matplotlib.image.AxesImage at 0x20d20e75070>"
      ]
     },
     "execution_count": 39,
     "metadata": {},
     "output_type": "execute_result"
    },
    {
     "data": {
      "image/png": "[encoded data removed]",
      "text/plain": [
       "<Figure size 300x200 with 1 Axes>"
      ]
     },
     "metadata": {},
     "output_type": "display_data"
    }
   ],
   "source": [
    "action=0\n",
    "obs, reward, done, truncated, info = env.step(action=action)\n",
    "print(obs)\n",
    "img=env.render()\n",
    "\n",
    "plt.figure(figsize=(3, 2))\n",
    "plt.imshow(img)"
   ]
  },
  {
   "cell_type": "markdown",
   "metadata": {},
   "source": [
    "## **This is just a simple policy to demonstrate the working In a environment**. Policy gradeint wala code niche h in which we USED NN"
   ]
  },
  {
   "cell_type": "code",
   "execution_count": 40,
   "metadata": {},
   "outputs": [
    {
     "name": "stdout",
     "output_type": "stream",
     "text": [
      "Mean -> 41.698\n",
      "Max -> 63\n",
      "Min -> 24\n"
     ]
    }
   ],
   "source": [
    "#To decide the angle and condition is self explanatory ----> This is basic policy, will try using neueral networks for gradient updates\n",
    "def basic_policy(angle):\n",
    "    return 0 if angle < 0 else 1\n",
    "\n",
    "#total rewards -> jiska shape pata nahi decide krengey abhi\n",
    "total = []\n",
    "for episode in range(500): #running for 500 episodes\n",
    "    obs, info = env.reset(seed=episode)\n",
    "    episode_reward = 0\n",
    "    for step in range(200): #Each episode runs for 200 steps\n",
    "        action = basic_policy(obs[2])\n",
    "        obs, curr_reward, done, truncated, info  = env.step(action=action)\n",
    "        episode_reward += int(curr_reward)\n",
    "        \n",
    "        if done or truncated:\n",
    "            break\n",
    "    total.append(episode_reward)\n",
    "\n",
    "\n",
    "print(\"Mean ->\",np.mean(total))\n",
    "print(\"Max ->\",max(total))\n",
    "print(\"Min ->\",min(total))\n"
   ]
  },
  {
   "cell_type": "code",
   "execution_count": null,
   "metadata": {},
   "outputs": [],
   "source": []
  },
  {
   "cell_type": "markdown",
   "metadata": {},
   "source": []
  },
  {
   "cell_type": "code",
   "execution_count": null,
   "metadata": {},
   "outputs": [],
   "source": []
  },
  {
   "cell_type": "markdown",
   "metadata": {},
   "source": [
    "# +++++++++++++++++++++++++++++++++++++++++++"
   ]
  },
  {
   "cell_type": "markdown",
   "metadata": {},
   "source": [
    "## **The max reward from all 500 episode is just 63, We can improve it by using some different policy like NN ->** *Will use Pytorch to implement policy gradeint*"
   ]
  },
  {
   "cell_type": "code",
   "execution_count": 41,
   "metadata": {},
   "outputs": [
    {
     "data": {
      "text/plain": [
       "' \\nPolicy Gradient methods learn stochastic policies, \\nmeaning the policy outputs a probability distribution over actions rather than a single deterministic action. \\nThis allows the agent to explore different actions and learn from their outcomes.\\n\\nThis happens over a entire episode, becasue the immediate reward might be intimidating but It may lead to\\nworse rewards later on so, considering the entire actions over an episode makes more sense.\\n'"
      ]
     },
     "execution_count": 41,
     "metadata": {},
     "output_type": "execute_result"
    }
   ],
   "source": [
    "''' \n",
    "Policy Gradient methods learn stochastic policies, \n",
    "meaning the policy outputs a probability distribution over actions rather than a single deterministic action. \n",
    "This allows the agent to explore different actions and learn from their outcomes.\n",
    "\n",
    "This happens over a entire episode, becasue the immediate reward might be intimidating but It may lead to\n",
    "worse rewards later on so, considering the entire actions over an episode makes more sense.\n",
    "'''"
   ]
  },
  {
   "cell_type": "code",
   "execution_count": 42,
   "metadata": {},
   "outputs": [
    {
     "name": "stdout",
     "output_type": "stream",
     "text": [
      "[ 0.0273956  -0.00611216  0.03585979  0.0197368 ]\n"
     ]
    }
   ],
   "source": [
    "#creating the gym env\n",
    "env = gym.make('CartPole-v1', render_mode='rgb_array')\n",
    "obs, info = env.reset(seed=42) #info contains info about the env but yaha par empty rhega in cartpole\n",
    "print(obs)"
   ]
  },
  {
   "cell_type": "code",
   "execution_count": 43,
   "metadata": {},
   "outputs": [],
   "source": [
    "class Simplemodel(nn.Module):\n",
    "    def __init__(self):\n",
    "        super().__init__()\n",
    "        self.model = nn.Sequential(\n",
    "            nn.Linear(4,5), # 4 Input and 5 output features\n",
    "            nn.ReLU(),\n",
    "            nn.Linear(5,1), #5 input and just one output with sigmoid AF to classify betn take or not take action\n",
    "            nn.Sigmoid()\n",
    "        )\n",
    "    \n",
    "    def forward(self, x):\n",
    "        return self.model(x) \n",
    "    \n",
    "model = Simplemodel()\n",
    "# print(model)\n",
    "# After training we can see model parameters by ----> list(model.parameters())"
   ]
  },
  {
   "cell_type": "code",
   "execution_count": 44,
   "metadata": {},
   "outputs": [],
   "source": [
    "def play_one_step(env, obs, model, loss_fn):\n",
    "    obs_tensor = torch.tensor(obs, dtype=torch.float32).unsqueeze(0) # eg -> [[1,2,3,4]]\n",
    "    \n",
    "    left_prob = model(obs_tensor) #probability output kiya rhega betweeen 1 or 0 ---->so keep in mind and that too of going LEFT\n",
    "    \n",
    "    # random_value = torch.rand(1)\n",
    "    action = (torch.rand(1) > left_prob).float() #typecasting -> here action is either : 0 || 1\n",
    "    \n",
    "    \n",
    "    # if action is ZERO then : Meaning that agent should GOTO LEFT\n",
    "    # the target probability of going left will be --------> y_target => 1 - 0 => 1\n",
    "    \n",
    "    # if action is ONE then : Meaning that agent should GOTO RIGHT\n",
    "    # the target probability of going right will be -------> y_target => 1 - 1 => 0\n",
    "    \n",
    "    \n",
    "    # y_target = torch.tensor([[1.]]) - action\n",
    "    y_target = torch.ones_like(left_prob) - action\n",
    "    # if(y_target >=1 or y_target <=0):\n",
    "    #     print(\"are bhai all elements of target should be between 0 and 1\")\n",
    "    #     exit\n",
    "    \n",
    "    # loss = loss_fn(left_prob, y_target.view_as(left_prob))\n",
    "    loss = loss_fn(left_prob, y_target)\n",
    "    \n",
    "    \n",
    "    #Computing gradaeint\n",
    "    model.zero_grad() #Clearing the previous gradients\n",
    "    loss.backward() # Backpropagation\n",
    "    \n",
    "    action_int = int(action.item())\n",
    "    obs, reward, done, truncated, info= env.step(action_int)\n",
    "    \n",
    "    \n",
    "    #For each action taken, the gradients that would make the action more likely are computed (but not applied yet).\n",
    "    grads = [param.grad.clone() for param in model.parameters()]\n",
    "    \n",
    "    return obs, reward, done, truncated, grads\n",
    "\n",
    "# obs, r, d, t, grads = play_one_step( env, [10, 0, 5, 10], model, nn.BCELoss() )\n",
    "# grads"
   ]
  },
  {
   "cell_type": "code",
   "execution_count": 45,
   "metadata": {},
   "outputs": [],
   "source": [
    "# The above code was for the one step and here this is for multiple episodes\n",
    "# The code here is self explanatory\n",
    "def play_multiple_episodes(env, n_episodes, n_max_steps, model, loss_fn):\n",
    "    all_rewards = [] # [[...],[...],[...],[...],[...],[...]]\n",
    "    all_grads = []\n",
    "    for episode in range(n_episodes):\n",
    "        curr_rewards = []\n",
    "        curr_grads = []\n",
    "        obs, info = env.reset()\n",
    "        for step in range(n_max_steps):\n",
    "            obs, rewards, done, truncated, grads = play_one_step(env,obs,model,loss_fn)\n",
    "            #rewards could be [1,1,0,1,0,1,0,0,1,1,0] and only ones count like [1,1,1,1,1,1,1] untill done or truncated\n",
    "            #If the pole goes more than 15.4' in either direction then we don't get reward \n",
    "            curr_rewards.append(rewards) \n",
    "            \"\"\"\n",
    "            grads would be:\n",
    "            [ \n",
    "                1st layer W shape - [5, 4] - [[1,1,1,1],\n",
    "                                              [1,1,1,1],\n",
    "                                              [1,1,1,1],\n",
    "                                              [1,1,1,1],\n",
    "                                              [1,1,1,1]]\n",
    "                ,            \n",
    "                1st layer B - shape[5] - [1,1,1,1,1] each for 5 nodes\n",
    "                ,\n",
    "                2nd layer W - shape[1,5] - [1,1,1,1,1] -> for incoming inputs Weight\n",
    "                ,\n",
    "                2nd Layer B - shape[1]  - [1]\n",
    "            ]\n",
    "            \"\"\"\n",
    "            curr_grads.append(grads)     \n",
    "            if done or truncated:\n",
    "                break\n",
    "        all_rewards.append(curr_rewards)\n",
    "        all_grads.append(curr_grads)\n",
    "    return all_rewards, all_grads # [[...],[...],[...],[...],[...],[...]] AND grads ka shape upar mention kiya hai :)\n",
    "\n",
    "\n",
    "def discount_rewards(rewards, discount_factor):\n",
    "    discounted = np.array(rewards)              #[1,2,3...200]  -> Note that we are changing list to numpy array\n",
    "    for step in range(len(rewards)-2, -1, -1):\n",
    "        discounted[step] += discounted[step+1] * discount_factor\n",
    "    return discounted                           #[1,2,3...200]\n",
    "\n",
    "def discount_and_normalize_rewards(all_rewards, discount_factor):\n",
    "    all_discounted_rewards = [discount_rewards(reward, discount_factor) for reward in all_rewards] #[[...],[...],[...],[...],[...],[...]]\n",
    "    flat_rewards = np.concatenate(all_discounted_rewards)\n",
    "    mean = flat_rewards.mean()\n",
    "    std = flat_rewards.std()\n",
    "    return [(discounted_rewards-mean)/std for discounted_rewards in all_discounted_rewards]  #[[...],[...],[...],[...],[...],[...]]\n",
    "    "
   ]
  },
  {
   "cell_type": "code",
   "execution_count": 47,
   "metadata": {},
   "outputs": [
    {
     "data": {
      "text/plain": [
       "[Parameter containing:\n",
       " tensor([[-0.0839, -0.4265, -0.3214, -0.3225],\n",
       "         [-0.4492, -0.2552,  0.3797, -0.2291],\n",
       "         [-0.1891, -0.0023, -0.2974,  0.1894],\n",
       "         [-0.3604,  0.0669,  0.3275,  0.1952],\n",
       "         [-0.1050, -0.4335,  0.2092,  0.0571]], requires_grad=True),\n",
       " Parameter containing:\n",
       " tensor([ 0.3825, -0.3741,  0.1919, -0.3035, -0.0323], requires_grad=True),\n",
       " Parameter containing:\n",
       " tensor([[ 0.1480,  0.3317,  0.0908, -0.3276, -0.0682]], requires_grad=True),\n",
       " Parameter containing:\n",
       " tensor([0.3411], requires_grad=True)]"
      ]
     },
     "execution_count": 47,
     "metadata": {},
     "output_type": "execute_result"
    }
   ],
   "source": [
    "# for i, param in enumerate(model.parameters()):\n",
    "# (5,4) * (4)\n",
    "list(model.parameters())"
   ]
  },
  {
   "attachments": {
    "image.png": {
     "image/png": "[encoded data removed]"
    }
   },
   "cell_type": "markdown",
   "metadata": {},
   "source": [
    "# Theory\n",
    "\n",
    "### This is how final_rewards would look like:\n",
    "#### final_rewards = [\n",
    "    [1, 1, 1, ..., 1],  # Episode 1 (200 steps)\n",
    "    [1, 1, 1, ..., 1],  # Episode 2 (200 steps)\n",
    "    [1, 1, 1, ..., 1],  # Episode 3 (200 steps)\n",
    "    ...\n",
    "    [1, 1, 1, ..., 1]   # Episode 10 (200 steps)\n",
    "]\n",
    "\n",
    "\n",
    "\n",
    "## policy gradeint theorem\n",
    "\n",
    "![image.png](attachment:image.png)"
   ]
  },
  {
   "cell_type": "code",
   "execution_count": 48,
   "metadata": {},
   "outputs": [],
   "source": [
    "#Model configurations\n",
    "n_iterations = 150\n",
    "n_episodes_per_update = 10\n",
    "n_max_steps = 200\n",
    "discount_factor = 0.95\n",
    "\n",
    "optimizer = torch.optim.NAdam(model.parameters(), lr=0.01)\n",
    "loss_fn = nn.BCELoss()  # Binary cross-entropy loss\n",
    "# loss_fn = nn.MSELoss()  # Binary cross-entropy loss\n",
    "\n",
    "\n",
    "for iteration in range(n_iterations):\n",
    "    all_rewards, all_grads = play_multiple_episodes(env, n_episodes_per_update, n_max_steps, model, loss_fn)\n",
    "\n",
    "    all_final_rewards = discount_and_normalize_rewards(all_rewards, discount_factor) # [[...],[...],[...],[...],[...],[...]]\n",
    "\n",
    "\n",
    "    #*******************************READ THIS CAREFULLY*************************\n",
    "    \n",
    "    all_mean_grads = [] #Exactly same as list(parameteres()) but with mean values accross 2000 steps for 10 episode\n",
    "    \n",
    "    #*******************************READ THIS CAREFULLY*************************\n",
    "    \n",
    "    #This outer loop is iterate over 4 parameters within the network -> check list(parameters())\n",
    "    for var_index, param in enumerate(model.parameters()):\n",
    "        #final_reward  -> a single scalar value\n",
    "        #final_rewards -> contains 1 episodes ke reward i.e, 200 steps ke reward [1,2,3,....200]\n",
    "        #all_final_rewards -> contains 10 episodes ke reward\n",
    "        mean_grads = torch.mean(\n",
    "            torch.stack([\n",
    "                final_reward * all_grads[episode_index][step][var_index]\n",
    "                for episode_index, final_rewards in enumerate(all_final_rewards)\n",
    "                for step, final_reward in enumerate(final_rewards)\n",
    "            ]),\n",
    "            dim=0\n",
    "        )\n",
    "        all_mean_grads.append(mean_grads)\n",
    "\n",
    "    # Apply gradients manually\n",
    "    for param, mean_grad in zip(model.parameters(), all_mean_grads):\n",
    "        param.grad = mean_grad  # Set gradients manually\n",
    "\n",
    "    optimizer.step()  # Update model parameters\n",
    "    optimizer.zero_grad()  # Clear accumulated gradients"
   ]
  },
  {
   "cell_type": "code",
   "execution_count": null,
   "metadata": {},
   "outputs": [
    {
     "data": {
      "text/plain": [
       "[Parameter containing:\n",
       " tensor([[ 0.1675, -0.4384, -1.9306, -1.4837],\n",
       "         [-0.4565, -0.2428, -0.0332, -0.4147],\n",
       "         [-0.0638,  0.4280,  1.1745,  1.2208],\n",
       "         [-0.2020,  0.1531,  0.3135,  0.1471],\n",
       "         [-0.0916, -0.2804,  1.7022,  1.0575]], requires_grad=True),\n",
       " Parameter containing:\n",
       " tensor([ 0.9367, -0.3845,  0.6246, -0.3754,  0.7567], requires_grad=True),\n",
       " Parameter containing:\n",
       " tensor([[ 1.1424,  0.3746, -0.9298, -0.2803, -0.8179]], requires_grad=True),\n",
       " Parameter containing:\n",
       " tensor([0.1542], requires_grad=True)]"
      ]
     },
     "execution_count": 55,
     "metadata": {},
     "output_type": "execute_result"
    }
   ],
   "source": [
    "# for param in model.parameters():\n",
    "#     print(param)\n",
    "    # print()\n",
    "    \n",
    "    \n",
    "# Fully trained model :)\n",
    "list(model.parameters())"
   ]
  },
  {
   "cell_type": "code",
   "execution_count": 115,
   "metadata": {},
   "outputs": [],
   "source": [
    "def nn_policy(obs):\n",
    "    obs_tensor = torch.tensor(obs, dtype=torch.float32).unsqueeze(0)\n",
    "    prob = model(obs_tensor)\n",
    "    if(prob>0.5):\n",
    "        return 0\n",
    "    else:\n",
    "        return 1\n",
    "    return int(prob)"
   ]
  },
  {
   "cell_type": "code",
   "execution_count": 118,
   "metadata": {},
   "outputs": [
    {
     "name": "stdout",
     "output_type": "stream",
     "text": [
      "Mean -> 200.0\n",
      "Max -> 200\n",
      "Min -> 200\n"
     ]
    }
   ],
   "source": [
    "# Let's test the model\n",
    "\n",
    "def nn_policy(obs):\n",
    "    obs_tensor = torch.tensor(obs, dtype=torch.float32).unsqueeze(0)\n",
    "    prob = model(obs_tensor)\n",
    "    if(prob>0.5):\n",
    "        return 0\n",
    "    else:\n",
    "        return 1\n",
    "\n",
    "total = []\n",
    "for episode in range(500): #running for 500 episodes\n",
    "    obs, info = env.reset(seed=episode)\n",
    "    episode_reward = 0\n",
    "    for step in range(200): #Each episode runs for 200 steps\n",
    "        action = nn_policy(obs)\n",
    "        obs, curr_reward, done, truncated, info  = env.step(action=action)\n",
    "        episode_reward += int(curr_reward)\n",
    "        \n",
    "        if done or truncated:\n",
    "            break\n",
    "    total.append(episode_reward)\n",
    "    \n",
    "print(\"Mean ->\",np.mean(total))\n",
    "print(\"Max ->\",max(total))\n",
    "print(\"Min ->\",min(total))"
   ]
  },
  {
   "cell_type": "code",
   "execution_count": 141,
   "metadata": {},
   "outputs": [
    {
     "data": {
      "image/png": "[encoded data removed]",
      "text/plain": [
       "<Figure size 640x480 with 1 Axes>"
      ]
     },
     "metadata": {},
     "output_type": "display_data"
    }
   ],
   "source": [
    "import matplotlib.pyplot as plt\n",
    "from IPython import display\n",
    "\n",
    "obs, info = env.reset()\n",
    "img = plt.imshow(env.render())\n",
    "\n",
    "for step in range(200+1):\n",
    "    display.display(plt.gcf()) # to shows the updated plot.\n",
    "    display.clear_output(wait=True) #this one clears the previous frame to create a smooth animation.\n",
    "    action = nn_policy(obs)\n",
    "    obs, reward, done, truncated, info = env.step(action)\n",
    "    img.set_data(env.render())\n",
    "    plt.xlabel('Testing Iteration')\n",
    "    plt.ylabel('Average Reward')\n",
    "    plt.title(f\"Step: {step}\")\n",
    "    # plt.axis('off')\n",
    "    if done or truncated:\n",
    "        break"
   ]
  }
 ],
 "metadata": {
  "kernelspec": {
   "display_name": "rlenv",
   "language": "python",
   "name": "python3"
  },
  "language_info": {
   "codemirror_mode": {
    "name": "ipython",
    "version": 3
   },
   "file_extension": ".py",
   "mimetype": "text/x-python",
   "name": "python",
   "nbconvert_exporter": "python",
   "pygments_lexer": "ipython3",
   "version": "3.12.3"
  }
 },
 "nbformat": 4,
 "nbformat_minor": 2
}
