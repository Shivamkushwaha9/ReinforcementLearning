{
 "cells": [
  {
   "cell_type": "code",
   "execution_count": 1,
   "metadata": {},
   "outputs": [],
   "source": [
    "import numpy as np"
   ]
  },
  {
   "cell_type": "code",
   "execution_count": 3,
   "metadata": {},
   "outputs": [],
   "source": [
    " transition_probabilities = [  # shape=[s, a, s']\n",
    "                                [[0.7, 0.3, 0.0], [1.0, 0.0, 0.0], [0.8, 0.2, 0.0]],\n",
    "                                [[0.0, 1.0, 0.0], None, [0.0, 0.0, 1.0]],\n",
    "                                [None, [0.8, 0.1, 0.1], None]\n",
    "                            ]\n",
    " rewards = [  # shape=[s, a, s']\n",
    "            [[+10, 0, 0], [0, 0, 0], [0, 0, 0]],\n",
    "            [[0, 0, 0], [0, 0, 0], [0, 0, -50]],\n",
    "            [[0, 0, 0], [+40, 0, 0], [0, 0, 0]]\n",
    "        ]\n",
    " # shape = [s]\n",
    " possible_actions = [[0, 1, 2], [0, 2], [1]]"
   ]
  },
  {
   "cell_type": "markdown",
   "metadata": {},
   "source": [
    "## Q-value Iteration Algorithm :)\n",
    "Q_{k+1}(s,a) = ∑_{s'} T(s,a,s') * [R(s,a,s') + γ * max_{a'} Q_k(s',a')] for all s,a\n"
   ]
  },
  {
   "cell_type": "code",
   "execution_count": 206,
   "metadata": {},
   "outputs": [],
   "source": [
    "q_values = np.full((3,3), -np.inf)\n",
    "for state, action in enumerate(possible_actions):\n",
    "    q_values[state][action] = 0"
   ]
  },
  {
   "cell_type": "code",
   "execution_count": 207,
   "metadata": {},
   "outputs": [
    {
     "data": {
      "text/plain": [
       "array([[18.91891892, 17.02702702, 13.62162162],\n",
       "       [ 0.        ,        -inf, -4.87971488],\n",
       "       [       -inf, 50.13365013,        -inf]])"
      ]
     },
     "execution_count": 207,
     "metadata": {},
     "output_type": "execute_result"
    }
   ],
   "source": [
    "gamma = 0.90\n",
    "for iteration in range(50):\n",
    "    q_prev = q_values.copy()\n",
    "    for s in range(3):\n",
    "        for a in possible_actions[s]:\n",
    "            q_values[s][a] = np.sum([transition_probabilities[s][a][sp] * (rewards[s][a][sp] + gamma * q_prev[sp].max()) for sp in range(3)]) \n",
    "q_values"
   ]
  }
 ],
 "metadata": {
  "kernelspec": {
   "display_name": "rlenv",
   "language": "python",
   "name": "python3"
  },
  "language_info": {
   "codemirror_mode": {
    "name": "ipython",
    "version": 3
   },
   "file_extension": ".py",
   "mimetype": "text/x-python",
   "name": "python",
   "nbconvert_exporter": "python",
   "pygments_lexer": "ipython3",
   "version": "3.12.3"
  }
 },
 "nbformat": 4,
 "nbformat_minor": 2
}
